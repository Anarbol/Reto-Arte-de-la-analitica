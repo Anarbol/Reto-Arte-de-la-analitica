{
 "cells": [
  {
   "cell_type": "markdown",
   "metadata": {},
   "source": [
    "# Actividad Evaluable: Mapas de calor y boxplots  \n",
    "1. Carga los datos."
   ]
  },
  {
   "cell_type": "code",
   "execution_count": 116,
   "metadata": {},
   "outputs": [],
   "source": [
    "import pandas as pd\n",
    "import numpy as np\n",
    "import seaborn as sns\n",
    "import matplotlib.pyplot as plt\n",
    "\n",
    "datos = pd.read_csv(\"covid19_tweets.csv\")"
   ]
  },
  {
   "cell_type": "markdown",
   "metadata": {},
   "source": [
    "Modificamos las columnas 'user_created' y 'date' para poder utilizarlas en nuestras representaciones gráficas. "
   ]
  },
  {
   "cell_type": "code",
   "execution_count": 117,
   "metadata": {},
   "outputs": [],
   "source": [
    "datos['user_created'] = pd.to_datetime(datos['user_created'])\n",
    "datos['user_created'] = datos['user_created'].dt.date\n",
    "\n",
    "datos['date'] = pd.to_datetime(datos['date'])\n",
    "datos['date'] = datos['date'].dt.date"
   ]
  },
  {
   "cell_type": "markdown",
   "metadata": {},
   "source": [
    "Creamos dos columnas extras para tener a las fechas como enteros y poder utilizarlas aún más."
   ]
  },
  {
   "cell_type": "code",
   "execution_count": 118,
   "metadata": {},
   "outputs": [],
   "source": [
    "def fecha_a_numero(fecha):\n",
    "    return int(fecha.strftime('%Y%m%d'))\n",
    "\n",
    "datos['user_created_entero'] = datos['user_created'].apply(fecha_a_numero)\n",
    "datos['date_entero'] =  datos['date'].apply(fecha_a_numero)\n"
   ]
  },
  {
   "cell_type": "markdown",
   "metadata": {},
   "source": [
    "Visualizamos cómo se ven nuestras tablas modificadas:"
   ]
  },
  {
   "cell_type": "code",
   "execution_count": 119,
   "metadata": {},
   "outputs": [
    {
     "name": "stdout",
     "output_type": "stream",
     "text": [
      "         user_name         user_location  \\\n",
      "0           ᏉᎥ☻լꂅϮ            astroworld   \n",
      "1    Tom Basile 🇺🇸          New York, NY   \n",
      "2  Time4fisticuffs      Pewee Valley, KY   \n",
      "3      ethel mertz  Stuck in the Middle    \n",
      "4         DIPR-J&K     Jammu and Kashmir   \n",
      "\n",
      "                                    user_description user_created  \\\n",
      "0  wednesday addams as a disney princess keepin i...   2017-05-26   \n",
      "1  Husband, Father, Columnist & Commentator. Auth...   2009-04-16   \n",
      "2  #Christian #Catholic #Conservative #Reagan #Re...   2009-02-28   \n",
      "3  #Browns #Indians #ClevelandProud #[]_[] #Cavs ...   2019-03-07   \n",
      "4  🖊️Official Twitter handle of Department of Inf...   2017-02-12   \n",
      "\n",
      "   user_followers  user_friends  user_favourites  user_verified        date  \\\n",
      "0             624           950            18775          False  2020-07-25   \n",
      "1            2253          1677               24           True  2020-07-25   \n",
      "2            9275          9525             7254          False  2020-07-25   \n",
      "3             197           987             1488          False  2020-07-25   \n",
      "4          101009           168              101          False  2020-07-25   \n",
      "\n",
      "                                                text  \\\n",
      "0  If I smelled the scent of hand sanitizers toda...   \n",
      "1  Hey @Yankees @YankeesPR and @MLB - wouldn't it...   \n",
      "2  @diane3443 @wdunlap @realDonaldTrump Trump nev...   \n",
      "3  @brookbanktv The one gift #COVID19 has give me...   \n",
      "4  25 July : Media Bulletin on Novel #CoronaVirus...   \n",
      "\n",
      "                            hashtags               source  is_retweet  \\\n",
      "0                                NaN   Twitter for iPhone       False   \n",
      "1                                NaN  Twitter for Android       False   \n",
      "2                        ['COVID19']  Twitter for Android       False   \n",
      "3                        ['COVID19']   Twitter for iPhone       False   \n",
      "4  ['CoronaVirusUpdates', 'COVID19']  Twitter for Android       False   \n",
      "\n",
      "   user_created_entero  date_entero  \n",
      "0             20170526     20200725  \n",
      "1             20090416     20200725  \n",
      "2             20090228     20200725  \n",
      "3             20190307     20200725  \n",
      "4             20170212     20200725  \n"
     ]
    }
   ],
   "source": [
    "print(datos.head())"
   ]
  },
  {
   "cell_type": "markdown",
   "metadata": {},
   "source": [
    "Realizamos boxplots."
   ]
  },
  {
   "cell_type": "code",
   "execution_count": 120,
   "metadata": {},
   "outputs": [
    {
     "data": {
      "text/plain": [
       "<Axes: >"
      ]
     },
     "execution_count": 120,
     "metadata": {},
     "output_type": "execute_result"
    },
    {
     "data": {
      "image/png": "[encoded data removed]",
      "text/plain": [
       "<Figure size 640x480 with 1 Axes>"
      ]
     },
     "metadata": {},
     "output_type": "display_data"
    }
   ],
   "source": [
    "sns.boxplot(data=datos[\"date_entero\"], showfliers=False)"
   ]
  },
  {
   "cell_type": "markdown",
   "metadata": {},
   "source": [
    "Hacemos un histograma. Elegimos hacerlo de la columna 'date' porque nos interesaba descubrir si los tweets se subieron más en alguna fecha que en otra. Descubrimos que se subieron más o menos la misma cantidad de tweets por fecha, excepto por dos fechas en las que se subieron alrededor de 2000 tweets más que en las demás."
   ]
  },
  {
   "cell_type": "code",
   "execution_count": 121,
   "metadata": {},
   "outputs": [
    {
     "data": {
      "image/png": "[encoded data removed]",
      "text/plain": [
       "<Figure size 640x480 with 1 Axes>"
      ]
     },
     "metadata": {},
     "output_type": "display_data"
    }
   ],
   "source": [
    "fig, ax = plt.subplots()\n",
    "ax.hist(datos['date'], bins=12)\n",
    "plt.show()"
   ]
  },
  {
   "cell_type": "code",
   "execution_count": 122,
   "metadata": {},
   "outputs": [
    {
     "data": {
      "text/html": [
       "<div>\n",
       "<style scoped>\n",
       "    .dataframe tbody tr th:only-of-type {\n",
       "        vertical-align: middle;\n",
       "    }\n",
       "\n",
       "    .dataframe tbody tr th {\n",
       "        vertical-align: top;\n",
       "    }\n",
       "\n",
       "    .dataframe thead th {\n",
       "        text-align: right;\n",
       "    }\n",
       "</style>\n",
       "<table border=\"1\" class=\"dataframe\">\n",
       "  <thead>\n",
       "    <tr style=\"text-align: right;\">\n",
       "      <th></th>\n",
       "      <th>user_followers</th>\n",
       "      <th>user_friends</th>\n",
       "      <th>user_favourites</th>\n",
       "    </tr>\n",
       "  </thead>\n",
       "  <tbody>\n",
       "    <tr>\n",
       "      <th>user_followers</th>\n",
       "      <td>1.000000</td>\n",
       "      <td>-0.002722</td>\n",
       "      <td>-0.028724</td>\n",
       "    </tr>\n",
       "    <tr>\n",
       "      <th>user_friends</th>\n",
       "      <td>-0.002722</td>\n",
       "      <td>1.000000</td>\n",
       "      <td>0.207825</td>\n",
       "    </tr>\n",
       "    <tr>\n",
       "      <th>user_favourites</th>\n",
       "      <td>-0.028724</td>\n",
       "      <td>0.207825</td>\n",
       "      <td>1.000000</td>\n",
       "    </tr>\n",
       "  </tbody>\n",
       "</table>\n",
       "</div>"
      ],
      "text/plain": [
       "                 user_followers  user_friends  user_favourites\n",
       "user_followers         1.000000     -0.002722        -0.028724\n",
       "user_friends          -0.002722      1.000000         0.207825\n",
       "user_favourites       -0.028724      0.207825         1.000000"
      ]
     },
     "execution_count": 122,
     "metadata": {},
     "output_type": "execute_result"
    }
   ],
   "source": [
    "datos[['user_followers', 'user_friends', 'user_favourites']].corr()"
   ]
  }
 ],
 "metadata": {
  "kernelspec": {
   "display_name": "Python 3",
   "language": "python",
   "name": "python3"
  },
  "language_info": {
   "codemirror_mode": {
    "name": "ipython",
    "version": 3
   },
   "file_extension": ".py",
   "mimetype": "text/x-python",
   "name": "python",
   "nbconvert_exporter": "python",
   "pygments_lexer": "ipython3",
   "version": "3.11.3"
  },
  "orig_nbformat": 4
 },
 "nbformat": 4,
 "nbformat_minor": 2
}
